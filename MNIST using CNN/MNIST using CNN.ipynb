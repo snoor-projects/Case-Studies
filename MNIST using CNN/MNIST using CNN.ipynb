{
 "cells": [
  {
   "cell_type": "markdown",
   "metadata": {
    "id": "CF3Vkm9lhesK"
   },
   "source": [
    "# Deep Learning Worksheet 5&6: MNIST using CNN\n",
    "\n",
    "## Created by:\n",
    "### Shubhnoor Gill\n",
    "### UID: 18BCS6061\n",
    "### B.E. CSE(AIML-1)/B\n",
    "\n",
    "\n",
    "**Problem:** MNIST is a simple computer vision dataset. It consists of images of handwritten digits. It also includes labels for each image, telling us which digit it is.\n",
    "\n",
    "The MNIST data is split into two parts:  60,000  data points of training data, and 10,000  points of test data. Each image is 28 pixels by 28 pixels.\n",
    "\n",
    "**Objective:** In this notebook, I will try to make simple CNN model and then create complex model. I will also compare the various loss and accuracy related with each model.\n",
    "\n",
    "**Target:** Classify the label for the handwritten digit given using Convolutional Neural Networks(CNN).\n",
    "\n",
    "\n",
    "**NOTE:** Each step is explained via comments"
   ]
  },
  {
   "cell_type": "markdown",
   "metadata": {
    "id": "0wMeW2Tqhesp"
   },
   "source": [
    "# Data Loading and Data Understanding\n",
    "\n",
    "\n",
    "In this step, I will load the MNIST dataset from keras.dataset and also analyse the dataset while importing important libraries."
   ]
  },
  {
   "cell_type": "markdown",
   "metadata": {
    "id": "3mZnN152hesp"
   },
   "source": [
    "## Importing important libraries"
   ]
  },
  {
   "cell_type": "code",
   "execution_count": 1,
   "metadata": {
    "id": "yEtRMfmA3DFU"
   },
   "outputs": [
    {
     "name": "stderr",
     "output_type": "stream",
     "text": [
      "Using TensorFlow backend.\n"
     ]
    }
   ],
   "source": [
    "# To deal with numpy arrays\n",
    "import numpy as np\n",
    "\n",
    "# To randomise the selection\n",
    "import random as r\n",
    "\n",
    "# Keras abstraction for creating models with a stack of layers added squentially\n",
    "from keras.models import Sequential\n",
    "\n",
    "# Different layers(explained further in notebook)\n",
    "from keras.layers import Dense, Dropout, Flatten, Activation\n",
    "from keras.layers.convolutional import Conv2D, MaxPooling2D\n",
    "\n",
    "#  To use the function to_categorical for converting class labels (from digits) to one-hot encoded vectors\n",
    "from keras.utils import np_utils\n",
    "\n",
    "#  Load the MNIST dataset from keras.datasets\n",
    "from keras.datasets import mnist\n",
    "\n",
    "# To draw plots\n",
    "import matplotlib.pyplot as plt"
   ]
  },
  {
   "cell_type": "markdown",
   "metadata": {
    "id": "63D-E5ew33ZY"
   },
   "source": [
    "## Loading the MINST dataset"
   ]
  },
  {
   "cell_type": "code",
   "execution_count": 2,
   "metadata": {
    "colab": {
     "base_uri": "https://localhost:8080/"
    },
    "id": "SGE_EA0q4Gr_",
    "outputId": "6185489c-0515-4bb3-e17a-13b8c7cd4df4"
   },
   "outputs": [],
   "source": [
    "# Load the dataset into train and test sets\n",
    "(x_train ,y_train), (x_test, y_test) = mnist.load_data()"
   ]
  },
  {
   "cell_type": "markdown",
   "metadata": {
    "id": "VIP6siXChess"
   },
   "source": [
    "## Understand and explore the data"
   ]
  },
  {
   "cell_type": "code",
   "execution_count": 3,
   "metadata": {
    "colab": {
     "base_uri": "https://localhost:8080/",
     "height": 607
    },
    "id": "lUeTEp70hess",
    "outputId": "8019c2bc-c571-49d9-df0c-6ac699e37dc6"
   },
   "outputs": [
    {
     "data": {
      "image/png": "[encoded data removed]",
      "text/plain": [
       "<Figure size 1080x720 with 6 Axes>"
      ]
     },
     "metadata": {
      "needs_background": "light"
     },
     "output_type": "display_data"
    }
   ],
   "source": [
    "# Plot the images in the dataset\n",
    "j=[132,2050,4268,7523,6523,8400]  # making a list of some random indexes\n",
    "plt.figure(figsize=(15,10)) # Changing the plot figure size\n",
    "for i in range(1,7):\n",
    "    plt.subplot(2,3,i) # To plot subplots\n",
    "    plt.title(\"Digit is:\"+ str(y_train[j[i-1]])) # Giving the title to subplots\n",
    "    plt.imshow(x_train[j[i-1]]) #Plotting the subplot\n",
    "    "
   ]
  },
  {
   "cell_type": "code",
   "execution_count": 4,
   "metadata": {
    "colab": {
     "base_uri": "https://localhost:8080/"
    },
    "id": "WtpoNgn-hest",
    "outputId": "cda72640-61fd-42ed-8bab-2f7282b4710b"
   },
   "outputs": [
    {
     "name": "stdout",
     "output_type": "stream",
     "text": [
      "Train data: (60000, 28, 28) \n",
      "    Labels: (60000,)\n",
      "Test data: (10000, 28, 28) \n",
      "    Labels: (10000,)\n"
     ]
    }
   ],
   "source": [
    "# Check the shape of the data\n",
    "print(\"Train data:\", x_train.shape,\"\\n    Labels:\", y_train.shape)\n",
    "print(\"Test data:\", x_test.shape,\"\\n    Labels:\", y_test.shape)"
   ]
  },
  {
   "cell_type": "code",
   "execution_count": 5,
   "metadata": {
    "colab": {
     "base_uri": "https://localhost:8080/"
    },
    "id": "VcEAjwuzhest",
    "outputId": "7a418868-88ab-47ea-f337-935848f480d6"
   },
   "outputs": [
    {
     "name": "stdout",
     "output_type": "stream",
     "text": [
      "x_train:  <class 'numpy.ndarray'>\n",
      "y_train:  <class 'numpy.ndarray'>\n",
      "x_test:  <class 'numpy.ndarray'>\n",
      "y_test:  <class 'numpy.ndarray'>\n"
     ]
    }
   ],
   "source": [
    "# Check type of data\n",
    "print(\"x_train: \",type(x_train))\n",
    "print(\"y_train: \",type(y_train))\n",
    "print(\"x_test: \",type(x_test))\n",
    "print(\"y_test: \",type(y_test))"
   ]
  },
  {
   "cell_type": "markdown",
   "metadata": {
    "id": "8xBWVqHEhesu"
   },
   "source": [
    "**From above we can observe that 60,000 training and 10,000 test graysacle images each of size 28 x 28 are present and are stored as 2D arrays.**"
   ]
  },
  {
   "cell_type": "markdown",
   "metadata": {
    "id": "BMvYBSQBhesu"
   },
   "source": [
    "# Data Preparation\n",
    "\n",
    "In this step we will perform the following:\n",
    "- Selecting a sample of data from given dataset\n",
    "- Converting data to float format\n",
    "- Rescaling or performing normalisation\n",
    "- Reshaping our data"
   ]
  },
  {
   "cell_type": "markdown",
   "metadata": {
    "id": "DjPVNRNDhesu"
   },
   "source": [
    "## Select a sample from given dataset\n",
    "\n",
    "We all know that it would take a lot of time to train 60,000 images. Hence, to solve this problem, I will take 25000 random images from the given dataset."
   ]
  },
  {
   "cell_type": "code",
   "execution_count": 6,
   "metadata": {
    "colab": {
     "base_uri": "https://localhost:8080/"
    },
    "id": "8skn6ts8hesu",
    "outputId": "d8aade44-4626-4f3f-8be1-0f5436c966a0"
   },
   "outputs": [
    {
     "name": "stdout",
     "output_type": "stream",
     "text": [
      "New Train data dimensions:\n",
      "(25000, 28, 28)\n",
      "(25000,)\n"
     ]
    }
   ],
   "source": [
    "# Select a sample of only 25000 images for training\n",
    "i = np.random.randint(x_train.shape[0], size=25000) # To select 25000 random indices from the dataset\n",
    "x_train = x_train[i, :]\n",
    "y_train = y_train[i]\n",
    "print(\"New Train data dimensions:\")\n",
    "print(x_train.shape)\n",
    "print(y_train.shape)"
   ]
  },
  {
   "cell_type": "markdown",
   "metadata": {
    "id": "-vPRPjdPhesv"
   },
   "source": [
    "## Converting data to float format\n",
    "The pixels are originally stored as type int, so we prefer to convert it to float\n"
   ]
  },
  {
   "cell_type": "code",
   "execution_count": 7,
   "metadata": {
    "colab": {
     "base_uri": "https://localhost:8080/"
    },
    "id": "ROqCb89Vhesv",
    "outputId": "bd96a3d1-3c98-433a-9d16-1f49f331df34"
   },
   "outputs": [
    {
     "data": {
      "text/plain": [
       "dtype('uint8')"
      ]
     },
     "execution_count": 7,
     "metadata": {},
     "output_type": "execute_result"
    }
   ],
   "source": [
    "# Pixel type before converting to float\n",
    "x_train.dtype"
   ]
  },
  {
   "cell_type": "code",
   "execution_count": 8,
   "metadata": {
    "colab": {
     "base_uri": "https://localhost:8080/"
    },
    "id": "-92svy-KDeAZ",
    "outputId": "e1abbd55-4be7-4020-c5e0-e4665b8004a9"
   },
   "outputs": [
    {
     "data": {
      "text/plain": [
       "dtype('float32')"
      ]
     },
     "execution_count": 8,
     "metadata": {},
     "output_type": "execute_result"
    }
   ],
   "source": [
    "# Pixel type after converting to float\n",
    "# type casting one or more of the DataFrame's columns to column-specific types.\n",
    "x_train = x_train.astype('float32')\n",
    "x_test=x_test.astype('float32')\n",
    "x_train.dtype # checking the type of data"
   ]
  },
  {
   "cell_type": "markdown",
   "metadata": {
    "id": "xZtqf-YOhesw"
   },
   "source": [
    "## Normalizing data\n",
    "\n",
    "The value of each pixel is between 0-255, so we will rescale each\n",
    "pixel by dividing by 255 so that the range becomes between 0-1."
   ]
  },
  {
   "cell_type": "code",
   "execution_count": 9,
   "metadata": {
    "id": "488rau-jhesw"
   },
   "outputs": [],
   "source": [
    "# Rescaling our data- convert into fully black and fully white\n",
    "x_train= x_train/255.0\n",
    "x_test= x_test/255.0"
   ]
  },
  {
   "cell_type": "markdown",
   "metadata": {
    "id": "4snCwpbehesw"
   },
   "source": [
    "## Reshaping the data\n",
    "\n",
    "Our x_train data needs to be of the shape (25000, 28, 28, 1) whereas y_train needs to be of the shape (25000,10) where each image’s label is represented as a 10-d one-hot encoded vector. \n",
    "\n",
    "We perform one hot encoding on the y_train and y_test using to_categorical method."
   ]
  },
  {
   "cell_type": "code",
   "execution_count": 10,
   "metadata": {
    "id": "iRHXtJRGhesx"
   },
   "outputs": [],
   "source": [
    "# specify input dimensions of each image\n",
    "img_rows, img_cols = 28, 28\n",
    "input_shape = (img_rows, img_cols, 1)\n",
    "class_num = 10 # Number of classes or digit labels in dataset"
   ]
  },
  {
   "cell_type": "code",
   "execution_count": 11,
   "metadata": {
    "colab": {
     "base_uri": "https://localhost:8080/"
    },
    "id": "C0zYg89Lhesx",
    "outputId": "a7c94a99-1949-4773-d8f6-5df157f5e061"
   },
   "outputs": [
    {
     "name": "stdout",
     "output_type": "stream",
     "text": [
      "New Train data dimensions:\n",
      "(25000, 28, 28, 1)\n",
      "(10000, 28, 28, 1)\n"
     ]
    }
   ],
   "source": [
    "# Reshaping the data\n",
    "x_train = x_train.reshape(x_train.shape[0], img_rows, img_cols,1) # 1----> channel-----> grayscale\n",
    "x_test = x_test.reshape(x_test.shape[0], img_rows, img_cols,1)\n",
    "print(\"New Train data dimensions:\")\n",
    "print(x_train.shape)\n",
    "print(x_test.shape)"
   ]
  },
  {
   "cell_type": "markdown",
   "metadata": {
    "id": "wAPWQMW4hesx"
   },
   "source": [
    "### Perform one hot encoding"
   ]
  },
  {
   "cell_type": "code",
   "execution_count": 12,
   "metadata": {
    "colab": {
     "base_uri": "https://localhost:8080/"
    },
    "id": "XnQ1BM-jD6EJ",
    "outputId": "5acd630b-68c8-4904-9287-9d672c8fea43"
   },
   "outputs": [
    {
     "name": "stdout",
     "output_type": "stream",
     "text": [
      "One -hot encoded class label dimensions:  (25000, 10)\n"
     ]
    }
   ],
   "source": [
    "# Converts a class vector (integers)- class labels to binary class matrix or  one-hot encoded vectors\n",
    "y_train = np_utils.to_categorical(y_train)\n",
    "y_test = np_utils.to_categorical(y_test)\n",
    "class_num = y_test.shape[1]\n",
    "print(\"One -hot encoded class label dimensions: \",y_train.shape)"
   ]
  },
  {
   "cell_type": "markdown",
   "metadata": {
    "id": "6hbaBxDbhesy"
   },
   "source": [
    "# Build 1st CNN Model\n",
    "\n",
    "I will build a very simple CNN model with:\n",
    "- 1 convolution layer\n",
    "- 1 MaxPool layer\n",
    "- 1 Flatten\n",
    "- 1 Dense layer(Softmax)\n",
    "\n",
    "Other hyperparameters used:\n",
    "- Activation function: relu\n",
    "- Actvation function used in output layer: Softmax\n",
    "- Loss: Categorical Loss\n",
    "- Optimizer: Adam"
   ]
  },
  {
   "cell_type": "code",
   "execution_count": 13,
   "metadata": {
    "id": "svpO6UDFFUor"
   },
   "outputs": [],
   "source": [
    "# Creating first sequential model\n",
    "model1 = Sequential()"
   ]
  },
  {
   "cell_type": "code",
   "execution_count": 14,
   "metadata": {
    "id": "FmlnU7syFYo_"
   },
   "outputs": [],
   "source": [
    "# Adding a keras convolutional layer called Conv2D\n",
    "# Filter size = 4x4\n",
    "# input_shape = (img_rows, img_cols, 1)\n",
    "\n",
    "model1.add(Conv2D(100, (4,4), input_shape=input_shape, padding='same', activation='relu'))"
   ]
  },
  {
   "cell_type": "code",
   "execution_count": 15,
   "metadata": {
    "id": "a4iDV5VbeESp"
   },
   "outputs": [],
   "source": [
    "# Add maxpool layer with kernel size 3x3\n",
    "model1.add(MaxPooling2D(pool_size=(2, 2)))"
   ]
  },
  {
   "cell_type": "code",
   "execution_count": 16,
   "metadata": {
    "id": "rAwdl1djhesz"
   },
   "outputs": [],
   "source": [
    "# Flatten the layer\n",
    "model1.add(Flatten())"
   ]
  },
  {
   "cell_type": "code",
   "execution_count": 17,
   "metadata": {
    "id": "sgCM_rUnkOud"
   },
   "outputs": [],
   "source": [
    "# Add softmax layer\n",
    "model1.add(Dense(class_num ,activation = 'softmax'))"
   ]
  },
  {
   "cell_type": "markdown",
   "metadata": {
    "id": "xx9fka62hes0"
   },
   "source": [
    "## Compile Model1"
   ]
  },
  {
   "cell_type": "code",
   "execution_count": 18,
   "metadata": {
    "id": "6n88FpmDkqL6"
   },
   "outputs": [],
   "source": [
    "model1.compile(loss='categorical_crossentropy', optimizer='adam', metrics=['accuracy'])"
   ]
  },
  {
   "cell_type": "code",
   "execution_count": 19,
   "metadata": {
    "colab": {
     "base_uri": "https://localhost:8080/"
    },
    "id": "pLpXulf1k_vd",
    "outputId": "8a9b0123-26c0-4891-8811-7bc5f5485368"
   },
   "outputs": [
    {
     "name": "stdout",
     "output_type": "stream",
     "text": [
      "Model: \"sequential_1\"\n",
      "_________________________________________________________________\n",
      "Layer (type)                 Output Shape              Param #   \n",
      "=================================================================\n",
      "conv2d_1 (Conv2D)            (None, 28, 28, 100)       1700      \n",
      "_________________________________________________________________\n",
      "max_pooling2d_1 (MaxPooling2 (None, 14, 14, 100)       0         \n",
      "_________________________________________________________________\n",
      "flatten_1 (Flatten)          (None, 19600)             0         \n",
      "_________________________________________________________________\n",
      "dense_1 (Dense)              (None, 10)                196010    \n",
      "=================================================================\n",
      "Total params: 197,710\n",
      "Trainable params: 197,710\n",
      "Non-trainable params: 0\n",
      "_________________________________________________________________\n",
      "None\n"
     ]
    }
   ],
   "source": [
    "print(model1.summary())"
   ]
  },
  {
   "cell_type": "markdown",
   "metadata": {
    "id": "ycZ2Lk-Mhes1"
   },
   "source": [
    "## Fit and Evaluate the model1"
   ]
  },
  {
   "cell_type": "code",
   "execution_count": 20,
   "metadata": {
    "colab": {
     "base_uri": "https://localhost:8080/"
    },
    "id": "cAFMuF5nlMTm",
    "outputId": "95a95d0a-55c3-4fe9-8162-3381fd3efeed"
   },
   "outputs": [
    {
     "name": "stdout",
     "output_type": "stream",
     "text": [
      "Train on 25000 samples, validate on 10000 samples\n",
      "Epoch 1/10\n",
      "25000/25000 [==============================] - 23s 910us/step - loss: 1.5871 - accuracy: 0.6784 - val_loss: 0.7545 - val_accuracy: 0.8263\n",
      "Epoch 2/10\n",
      "25000/25000 [==============================] - 20s 817us/step - loss: 0.5436 - accuracy: 0.8518 - val_loss: 0.3799 - val_accuracy: 0.8877\n",
      "Epoch 3/10\n",
      "25000/25000 [==============================] - 19s 775us/step - loss: 0.3487 - accuracy: 0.8981 - val_loss: 0.3025 - val_accuracy: 0.9120\n",
      "Epoch 4/10\n",
      "25000/25000 [==============================] - 20s 782us/step - loss: 0.2850 - accuracy: 0.9171 - val_loss: 0.2562 - val_accuracy: 0.9270\n",
      "Epoch 5/10\n",
      "25000/25000 [==============================] - 19s 765us/step - loss: 0.2430 - accuracy: 0.9299 - val_loss: 0.2274 - val_accuracy: 0.9359\n",
      "Epoch 6/10\n",
      "25000/25000 [==============================] - 19s 767us/step - loss: 0.2128 - accuracy: 0.9382 - val_loss: 0.1977 - val_accuracy: 0.9425\n",
      "Epoch 7/10\n",
      "25000/25000 [==============================] - 19s 760us/step - loss: 0.1845 - accuracy: 0.9467 - val_loss: 0.1762 - val_accuracy: 0.9497\n",
      "Epoch 8/10\n",
      "25000/25000 [==============================] - 19s 766us/step - loss: 0.1619 - accuracy: 0.9540 - val_loss: 0.1575 - val_accuracy: 0.9556\n",
      "Epoch 9/10\n",
      "25000/25000 [==============================] - 19s 772us/step - loss: 0.1429 - accuracy: 0.9605 - val_loss: 0.1440 - val_accuracy: 0.9590\n",
      "Epoch 10/10\n",
      "25000/25000 [==============================] - 19s 776us/step - loss: 0.1274 - accuracy: 0.9647 - val_loss: 0.1280 - val_accuracy: 0.9643\n"
     ]
    }
   ],
   "source": [
    "batch_size = 2000\n",
    "epochs = 10\n",
    "# Train the model1\n",
    "hist_1 = model1.fit(x_train, y_train, verbose = 1, validation_data = (x_test, y_test), epochs = epochs, batch_size = batch_size)"
   ]
  },
  {
   "cell_type": "code",
   "execution_count": 21,
   "metadata": {
    "colab": {
     "base_uri": "https://localhost:8080/"
    },
    "id": "lC0-Yh_qpvsz",
    "outputId": "8d57fc40-57e5-4426-b29a-afc9b7d3519f"
   },
   "outputs": [
    {
     "name": "stdout",
     "output_type": "stream",
     "text": [
      "10000/10000 [==============================] - 2s 248us/step\n",
      "Accuracy:96.43%\n",
      "Loss:12.80%\n"
     ]
    }
   ],
   "source": [
    "# Evaluate the model on test data\n",
    "scores_1 = model1.evaluate(x_test,y_test,verbose = 1)\n",
    "print(\"Accuracy:%.2f%%\" % (scores_1[1]*100))\n",
    "print(\"Loss:%.2f%%\" % (scores_1[0]*100))"
   ]
  },
  {
   "cell_type": "markdown",
   "metadata": {
    "id": "p0TTjO25hes2"
   },
   "source": [
    "# Build 2nd CNN Model\n",
    "\n",
    "I will build a very simple CNN model with:\n",
    "- 2 convolution layer\n",
    "- 1 MaxPool layer\n",
    "- 1 Dropout layer\n",
    "- 1 Flatten layer\n",
    "- 1 Dense layer\n",
    "- 1 Dropout layer\n",
    "- 1 Dense layer(Softmax)\n",
    "\n",
    "Other hyperparameters used:\n",
    "- Activation function: relu\n",
    "- Actvation function used in output layer: Softmax\n",
    "- Loss: Categorical Loss\n",
    "- Optimizer: Adam"
   ]
  },
  {
   "cell_type": "code",
   "execution_count": 22,
   "metadata": {
    "id": "0_11vrC8hes3"
   },
   "outputs": [],
   "source": [
    "# Creating second sequential model\n",
    "model2 = Sequential()"
   ]
  },
  {
   "cell_type": "code",
   "execution_count": 23,
   "metadata": {
    "id": "JtmrknXzhes3"
   },
   "outputs": [],
   "source": [
    "# Adding a keras convolutional layer called Conv2D\n",
    "# Filter size = 3x3\n",
    "# input_shape = (img_rows, img_cols, 1)\n",
    "model2.add(Conv2D(64,kernel_size=(3,3),input_shape=input_shape,activation='relu'))"
   ]
  },
  {
   "cell_type": "code",
   "execution_count": 24,
   "metadata": {
    "id": "-je_lpM2hes3"
   },
   "outputs": [],
   "source": [
    "# Second convolution layer\n",
    "model2.add(Conv2D(128,(3,3),activation='relu'))"
   ]
  },
  {
   "cell_type": "code",
   "execution_count": 25,
   "metadata": {
    "id": "x5jKod2Thes3"
   },
   "outputs": [],
   "source": [
    "# Add maxpool layer with kernel size 2x2\n",
    "model2.add(MaxPooling2D(pool_size=(2,2)))"
   ]
  },
  {
   "cell_type": "code",
   "execution_count": 26,
   "metadata": {
    "id": "Z3PoU3JFhes4"
   },
   "outputs": [],
   "source": [
    "# Add dropout layer which doesn't alter the output shape and has no trainable parameters\n",
    "model2.add(Dropout(0.25))"
   ]
  },
  {
   "cell_type": "code",
   "execution_count": 27,
   "metadata": {
    "id": "xHG5tBz2hes4"
   },
   "outputs": [],
   "source": [
    "# Add flatten layer\n",
    "model2.add(Flatten())"
   ]
  },
  {
   "cell_type": "code",
   "execution_count": 28,
   "metadata": {
    "id": "Sc1ttyOShes4"
   },
   "outputs": [],
   "source": [
    "# Add dense layer\n",
    "model2.add(Dense(224,activation='relu'))"
   ]
  },
  {
   "cell_type": "code",
   "execution_count": 29,
   "metadata": {
    "id": "3FVu4JGBhes4"
   },
   "outputs": [],
   "source": [
    "# Add dropout layer which drops few neurons to prevent overfitting of data\n",
    "model2.add(Dropout(0.5))"
   ]
  },
  {
   "cell_type": "code",
   "execution_count": 30,
   "metadata": {
    "id": "rEzOqbvEhes4"
   },
   "outputs": [],
   "source": [
    "# Add softmax layer\n",
    "model2.add(Dense(class_num,activation='softmax'))"
   ]
  },
  {
   "cell_type": "markdown",
   "metadata": {
    "id": "Ikw7A-SBhes4"
   },
   "source": [
    "## Compile model2"
   ]
  },
  {
   "cell_type": "code",
   "execution_count": 31,
   "metadata": {
    "id": "_z2NRMA39or7"
   },
   "outputs": [],
   "source": [
    "# Compile model2\n",
    "model2.compile(loss='categorical_crossentropy',\n",
    "             optimizer = 'adam',\n",
    "             metrics=['accuracy'])"
   ]
  },
  {
   "cell_type": "code",
   "execution_count": 32,
   "metadata": {
    "colab": {
     "base_uri": "https://localhost:8080/"
    },
    "id": "AsHA5pHc9rBi",
    "outputId": "f9e4e946-c756-4de5-8c25-2d47848ec75b"
   },
   "outputs": [
    {
     "name": "stdout",
     "output_type": "stream",
     "text": [
      "Model: \"sequential_2\"\n",
      "_________________________________________________________________\n",
      "Layer (type)                 Output Shape              Param #   \n",
      "=================================================================\n",
      "conv2d_2 (Conv2D)            (None, 26, 26, 64)        640       \n",
      "_________________________________________________________________\n",
      "conv2d_3 (Conv2D)            (None, 24, 24, 128)       73856     \n",
      "_________________________________________________________________\n",
      "max_pooling2d_2 (MaxPooling2 (None, 12, 12, 128)       0         \n",
      "_________________________________________________________________\n",
      "dropout_1 (Dropout)          (None, 12, 12, 128)       0         \n",
      "_________________________________________________________________\n",
      "flatten_2 (Flatten)          (None, 18432)             0         \n",
      "_________________________________________________________________\n",
      "dense_2 (Dense)              (None, 224)               4128992   \n",
      "_________________________________________________________________\n",
      "dropout_2 (Dropout)          (None, 224)               0         \n",
      "_________________________________________________________________\n",
      "dense_3 (Dense)              (None, 10)                2250      \n",
      "=================================================================\n",
      "Total params: 4,205,738\n",
      "Trainable params: 4,205,738\n",
      "Non-trainable params: 0\n",
      "_________________________________________________________________\n",
      "None\n"
     ]
    }
   ],
   "source": [
    "# Model summary\n",
    "print(model2.summary())\n"
   ]
  },
  {
   "cell_type": "markdown",
   "metadata": {
    "id": "qZUzowKYhes5"
   },
   "source": [
    "## Fit and evaluate the model2"
   ]
  },
  {
   "cell_type": "code",
   "execution_count": 33,
   "metadata": {
    "colab": {
     "base_uri": "https://localhost:8080/"
    },
    "id": "WXgAXuMq9uAa",
    "outputId": "03599ef0-c189-4046-b45e-58f2e4a9f19d"
   },
   "outputs": [
    {
     "name": "stdout",
     "output_type": "stream",
     "text": [
      "Train on 25000 samples, validate on 10000 samples\n",
      "Epoch 1/10\n",
      "25000/25000 [==============================] - 68s 3ms/step - loss: 1.0710 - accuracy: 0.6596 - val_loss: 0.3849 - val_accuracy: 0.8861\n",
      "Epoch 2/10\n",
      "25000/25000 [==============================] - 72s 3ms/step - loss: 0.3723 - accuracy: 0.8883 - val_loss: 0.2098 - val_accuracy: 0.9354\n",
      "Epoch 3/10\n",
      "25000/25000 [==============================] - 78s 3ms/step - loss: 0.2262 - accuracy: 0.9336 - val_loss: 0.1323 - val_accuracy: 0.9594\n",
      "Epoch 4/10\n",
      "25000/25000 [==============================] - 71s 3ms/step - loss: 0.1503 - accuracy: 0.9552 - val_loss: 0.0923 - val_accuracy: 0.9703\n",
      "Epoch 5/10\n",
      "25000/25000 [==============================] - 72s 3ms/step - loss: 0.1103 - accuracy: 0.9674 - val_loss: 0.0735 - val_accuracy: 0.9766\n",
      "Epoch 6/10\n",
      "25000/25000 [==============================] - 74s 3ms/step - loss: 0.0836 - accuracy: 0.9761 - val_loss: 0.0618 - val_accuracy: 0.9801\n",
      "Epoch 7/10\n",
      "25000/25000 [==============================] - 73s 3ms/step - loss: 0.0681 - accuracy: 0.9797 - val_loss: 0.0570 - val_accuracy: 0.9810\n",
      "Epoch 8/10\n",
      "25000/25000 [==============================] - 75s 3ms/step - loss: 0.0570 - accuracy: 0.9828 - val_loss: 0.0502 - val_accuracy: 0.9837\n",
      "Epoch 9/10\n",
      "25000/25000 [==============================] - 77s 3ms/step - loss: 0.0463 - accuracy: 0.9864 - val_loss: 0.0486 - val_accuracy: 0.9838\n",
      "Epoch 10/10\n",
      "25000/25000 [==============================] - 72s 3ms/step - loss: 0.0426 - accuracy: 0.9869 - val_loss: 0.0453 - val_accuracy: 0.9851\n"
     ]
    }
   ],
   "source": [
    "batch_size = 2000\n",
    "epochs = 10\n",
    "# Train the model2\n",
    "hist_2 = model2.fit(x_train,\n",
    "                    y_train,\n",
    "                    batch_size = batch_size,\n",
    "                    epochs = epochs,\n",
    "                    verbose = 1,\n",
    "                    validation_data = (x_test, y_test))"
   ]
  },
  {
   "cell_type": "code",
   "execution_count": 34,
   "metadata": {
    "id": "RtUqtvRuhes6"
   },
   "outputs": [
    {
     "name": "stdout",
     "output_type": "stream",
     "text": [
      "10000/10000 [==============================] - 7s 704us/step\n",
      "Accuracy:98.51%\n",
      "Loss:4.53%\n"
     ]
    }
   ],
   "source": [
    "# Evaluate the model2 on test data\n",
    "scores_2 = model2.evaluate(x_test,y_test,verbose = 1)\n",
    "print(\"Accuracy:%.2f%%\" % (scores_2[1]*100))\n",
    "print(\"Loss:%.2f%%\" % (scores_2[0]*100))"
   ]
  },
  {
   "cell_type": "markdown",
   "metadata": {
    "id": "ATifCKO6hes6"
   },
   "source": [
    "# Build 3rd CNN Model\n",
    "\n",
    "I will build a very simple CNN model with:\n",
    "- 2 convolution layer\n",
    "- 1 MaxPool layer\n",
    "- 1 Dropout layer\n",
    "- 1 convolution layer\n",
    "- 1 MaxPool layer\n",
    "- 1 Dropout layer\n",
    "- 1 Flatten layer\n",
    "- 1 Dense layer\n",
    "- 1 Dropout layer\n",
    "- 1 Dense layer\n",
    "- 1 Dropout layer\n",
    "- 1 Dense layer(Softmax)\n",
    "\n",
    "Other hyperparameters used:\n",
    "- Activation function: relu\n",
    "- Actvation function used in output layer: Softmax\n",
    "- Loss: Categorical Loss\n",
    "- Optimizer: Adam"
   ]
  },
  {
   "cell_type": "code",
   "execution_count": 35,
   "metadata": {
    "id": "JFUmjy3ohes6"
   },
   "outputs": [],
   "source": [
    "# Create a sequential model3\n",
    "model3 = Sequential()"
   ]
  },
  {
   "cell_type": "code",
   "execution_count": 36,
   "metadata": {
    "id": "nJXMULJghes6"
   },
   "outputs": [],
   "source": [
    "# Add first convolution layer with kernel size of 3x3 and stride 1x1 whereas with same padding\n",
    "model3.add(Conv2D(50, kernel_size=(3,3), strides=(1,1), padding='same', activation='relu', input_shape=(28,28, 1)))"
   ]
  },
  {
   "cell_type": "code",
   "execution_count": 37,
   "metadata": {
    "id": "qIuYIYZ_hes6"
   },
   "outputs": [],
   "source": [
    "# Add second convolution layer with kernel size of 3x3 and stride 1x1 whereas with same padding\n",
    "model3.add(Conv2D(75, kernel_size=(3,3), strides=(1,1), padding='same', activation='relu'))"
   ]
  },
  {
   "cell_type": "code",
   "execution_count": 38,
   "metadata": {
    "id": "Ca6B1wzyhes7"
   },
   "outputs": [],
   "source": [
    "# Add maxpool layer with kernel size of 2x2\n",
    "model3.add(MaxPooling2D(pool_size=(2,2)))"
   ]
  },
  {
   "cell_type": "code",
   "execution_count": 39,
   "metadata": {
    "id": "5TZrUrXqhes7"
   },
   "outputs": [],
   "source": [
    "# Add dropout layer\n",
    "model3.add(Dropout(0.25))"
   ]
  },
  {
   "cell_type": "code",
   "execution_count": 40,
   "metadata": {
    "id": "5K90LvZyhes7"
   },
   "outputs": [],
   "source": [
    "# Add third convolution layer with kernel size of 3x3 and stride 1x1 whereas with same padding\n",
    "model3.add(Conv2D(125, kernel_size=(3,3), strides=(1,1), padding='same', activation='relu'))"
   ]
  },
  {
   "cell_type": "code",
   "execution_count": 41,
   "metadata": {
    "id": "7bIZemVAhes8"
   },
   "outputs": [],
   "source": [
    "# Add maxpool layer with kernel size of 2x2\n",
    "model3.add(MaxPooling2D(pool_size=(2,2)))"
   ]
  },
  {
   "cell_type": "code",
   "execution_count": 42,
   "metadata": {
    "id": "2plRVqnqy5bU"
   },
   "outputs": [],
   "source": [
    "# Add dropout layer\n",
    "model3.add(Dropout(0.25))"
   ]
  },
  {
   "cell_type": "code",
   "execution_count": 43,
   "metadata": {
    "id": "nVVwaF2ches8"
   },
   "outputs": [],
   "source": [
    "# flatten output of conv\n",
    "model3.add(Flatten())"
   ]
  },
  {
   "cell_type": "code",
   "execution_count": 44,
   "metadata": {
    "id": "oQy7_Rwuhes8"
   },
   "outputs": [],
   "source": [
    "# Add dense layer\n",
    "model3.add(Dense(150, activation='relu'))"
   ]
  },
  {
   "cell_type": "code",
   "execution_count": 45,
   "metadata": {
    "id": "xNu1bBWxhes8"
   },
   "outputs": [],
   "source": [
    "# Add dropout layer\n",
    "model3.add(Dropout(0.4))"
   ]
  },
  {
   "cell_type": "code",
   "execution_count": 46,
   "metadata": {
    "id": "Y5gC08Umhes9"
   },
   "outputs": [],
   "source": [
    "# Add dense layer\n",
    "model3.add(Dense(125, activation='relu'))"
   ]
  },
  {
   "cell_type": "code",
   "execution_count": 47,
   "metadata": {
    "id": "1LPC15-thes9"
   },
   "outputs": [],
   "source": [
    "# Add dropout layer\n",
    "model3.add(Dropout(0.3))"
   ]
  },
  {
   "cell_type": "code",
   "execution_count": 48,
   "metadata": {
    "id": "If8PvU1mzrlG"
   },
   "outputs": [],
   "source": [
    "# Add softmax output layer\n",
    "model3.add(Dense(class_num, activation='softmax'))"
   ]
  },
  {
   "cell_type": "markdown",
   "metadata": {
    "id": "EE7z5FUhhes9"
   },
   "source": [
    "## Compile model3"
   ]
  },
  {
   "cell_type": "code",
   "execution_count": 49,
   "metadata": {
    "id": "lD9MBayMztYT"
   },
   "outputs": [],
   "source": [
    "# compiling the sequential model\n",
    "model3.compile(loss='categorical_crossentropy', metrics=['accuracy'], optimizer='adam')"
   ]
  },
  {
   "cell_type": "code",
   "execution_count": 50,
   "metadata": {
    "colab": {
     "base_uri": "https://localhost:8080/"
    },
    "id": "ooOrmAfN4RWD",
    "outputId": "4bc8731a-79ab-49a8-f451-92c1f4d83979"
   },
   "outputs": [
    {
     "name": "stdout",
     "output_type": "stream",
     "text": [
      "Model: \"sequential_3\"\n",
      "_________________________________________________________________\n",
      "Layer (type)                 Output Shape              Param #   \n",
      "=================================================================\n",
      "conv2d_4 (Conv2D)            (None, 28, 28, 50)        500       \n",
      "_________________________________________________________________\n",
      "conv2d_5 (Conv2D)            (None, 28, 28, 75)        33825     \n",
      "_________________________________________________________________\n",
      "max_pooling2d_3 (MaxPooling2 (None, 14, 14, 75)        0         \n",
      "_________________________________________________________________\n",
      "dropout_3 (Dropout)          (None, 14, 14, 75)        0         \n",
      "_________________________________________________________________\n",
      "conv2d_6 (Conv2D)            (None, 14, 14, 125)       84500     \n",
      "_________________________________________________________________\n",
      "max_pooling2d_4 (MaxPooling2 (None, 7, 7, 125)         0         \n",
      "_________________________________________________________________\n",
      "dropout_4 (Dropout)          (None, 7, 7, 125)         0         \n",
      "_________________________________________________________________\n",
      "flatten_3 (Flatten)          (None, 6125)              0         \n",
      "_________________________________________________________________\n",
      "dense_4 (Dense)              (None, 150)               918900    \n",
      "_________________________________________________________________\n",
      "dropout_5 (Dropout)          (None, 150)               0         \n",
      "_________________________________________________________________\n",
      "dense_5 (Dense)              (None, 125)               18875     \n",
      "_________________________________________________________________\n",
      "dropout_6 (Dropout)          (None, 125)               0         \n",
      "_________________________________________________________________\n",
      "dense_6 (Dense)              (None, 10)                1260      \n",
      "=================================================================\n",
      "Total params: 1,057,860\n",
      "Trainable params: 1,057,860\n",
      "Non-trainable params: 0\n",
      "_________________________________________________________________\n"
     ]
    }
   ],
   "source": [
    "model3.summary()"
   ]
  },
  {
   "cell_type": "markdown",
   "metadata": {
    "id": "8RGfqRv7hes-"
   },
   "source": [
    "## Fit and evaluate model3"
   ]
  },
  {
   "cell_type": "code",
   "execution_count": 51,
   "metadata": {
    "colab": {
     "base_uri": "https://localhost:8080/"
    },
    "id": "GAMCyoS9zvYP",
    "outputId": "f7741c33-f82d-451c-af26-d57830eaa230"
   },
   "outputs": [
    {
     "name": "stdout",
     "output_type": "stream",
     "text": [
      "Train on 25000 samples, validate on 10000 samples\n",
      "Epoch 1/10\n",
      "25000/25000 [==============================] - 89s 4ms/step - loss: 1.6066 - accuracy: 0.4472 - val_loss: 0.5009 - val_accuracy: 0.8705\n",
      "Epoch 2/10\n",
      "25000/25000 [==============================] - 90s 4ms/step - loss: 0.6155 - accuracy: 0.8039 - val_loss: 0.2447 - val_accuracy: 0.9280\n",
      "Epoch 3/10\n",
      "25000/25000 [==============================] - 90s 4ms/step - loss: 0.3402 - accuracy: 0.8964 - val_loss: 0.1548 - val_accuracy: 0.9518\n",
      "Epoch 4/10\n",
      "25000/25000 [==============================] - 81s 3ms/step - loss: 0.2262 - accuracy: 0.9331 - val_loss: 0.1044 - val_accuracy: 0.9682\n",
      "Epoch 5/10\n",
      "25000/25000 [==============================] - 80s 3ms/step - loss: 0.1712 - accuracy: 0.9480 - val_loss: 0.0806 - val_accuracy: 0.9748\n",
      "Epoch 6/10\n",
      "25000/25000 [==============================] - 80s 3ms/step - loss: 0.1343 - accuracy: 0.9612 - val_loss: 0.0684 - val_accuracy: 0.9783\n",
      "Epoch 7/10\n",
      "25000/25000 [==============================] - 80s 3ms/step - loss: 0.1161 - accuracy: 0.9642 - val_loss: 0.0611 - val_accuracy: 0.9804\n",
      "Epoch 8/10\n",
      "25000/25000 [==============================] - 79s 3ms/step - loss: 0.1050 - accuracy: 0.9693 - val_loss: 0.0525 - val_accuracy: 0.9825\n",
      "Epoch 9/10\n",
      "25000/25000 [==============================] - 80s 3ms/step - loss: 0.0884 - accuracy: 0.9736 - val_loss: 0.0462 - val_accuracy: 0.9851\n",
      "Epoch 10/10\n",
      "25000/25000 [==============================] - 80s 3ms/step - loss: 0.0769 - accuracy: 0.9776 - val_loss: 0.0465 - val_accuracy: 0.9842\n"
     ]
    }
   ],
   "source": [
    "batch_size = 2000\n",
    "epochs = 10\n",
    "# Train the model3\n",
    "hist_3 = model3.fit(x_train,\n",
    "                    y_train,\n",
    "                    batch_size = batch_size,\n",
    "                    epochs = epochs,\n",
    "                    verbose = 1,\n",
    "                    validation_data = (x_test, y_test))"
   ]
  },
  {
   "cell_type": "code",
   "execution_count": 52,
   "metadata": {
    "colab": {
     "base_uri": "https://localhost:8080/"
    },
    "id": "joMRhiMF4rFe",
    "outputId": "d2ea9397-3613-4508-ffc3-5912f4a84991"
   },
   "outputs": [
    {
     "name": "stdout",
     "output_type": "stream",
     "text": [
      "10000/10000 [==============================] - 7s 693us/step\n",
      "Accuracy:98.42%\n",
      "Loss:4.65%\n"
     ]
    }
   ],
   "source": [
    "# Evaluate the model3 on test data\n",
    "scores_3 = model3.evaluate(x_test,y_test,verbose = 1)\n",
    "print(\"Accuracy:%.2f%%\" % (scores_3[1]*100))\n",
    "print(\"Loss:%.2f%%\" % (scores_3[0]*100))"
   ]
  },
  {
   "cell_type": "markdown",
   "metadata": {
    "id": "R0hfjO3N8-3F"
   },
   "source": [
    "# Compare models\n",
    "\n",
    "In this part, I will compare and plot the graphs of the three models created on the basis of accuracy and loss."
   ]
  },
  {
   "cell_type": "code",
   "execution_count": 54,
   "metadata": {
    "id": "pMQyC_NZhes-"
   },
   "outputs": [
    {
     "data": {
      "text/html": [
       "<div>\n",
       "<style scoped>\n",
       "    .dataframe tbody tr th:only-of-type {\n",
       "        vertical-align: middle;\n",
       "    }\n",
       "\n",
       "    .dataframe tbody tr th {\n",
       "        vertical-align: top;\n",
       "    }\n",
       "\n",
       "    .dataframe thead th {\n",
       "        text-align: right;\n",
       "    }\n",
       "</style>\n",
       "<table border=\"1\" class=\"dataframe\">\n",
       "  <thead>\n",
       "    <tr style=\"text-align: right;\">\n",
       "      <th></th>\n",
       "      <th>Test Loss</th>\n",
       "      <th>Test Accuracy</th>\n",
       "    </tr>\n",
       "  </thead>\n",
       "  <tbody>\n",
       "    <tr>\n",
       "      <th>model1</th>\n",
       "      <td>0.128046</td>\n",
       "      <td>0.9643</td>\n",
       "    </tr>\n",
       "    <tr>\n",
       "      <th>model2</th>\n",
       "      <td>0.045253</td>\n",
       "      <td>0.9851</td>\n",
       "    </tr>\n",
       "    <tr>\n",
       "      <th>model3</th>\n",
       "      <td>0.046548</td>\n",
       "      <td>0.9842</td>\n",
       "    </tr>\n",
       "  </tbody>\n",
       "</table>\n",
       "</div>"
      ],
      "text/plain": [
       "        Test Loss  Test Accuracy\n",
       "model1   0.128046         0.9643\n",
       "model2   0.045253         0.9851\n",
       "model3   0.046548         0.9842"
      ]
     },
     "execution_count": 54,
     "metadata": {},
     "output_type": "execute_result"
    }
   ],
   "source": [
    "import pandas as pd # To create a dataframe\n",
    "test_loss=[scores_1[0],scores_2[0],scores_3[0]] # test loss list\n",
    "test_acc=[scores_1[1],scores_2[1],scores_3[1]]  # test accuracy list\n",
    "# Creating a dataframe to store the model metrics\n",
    "df_scores=pd.DataFrame({'Test Loss':test_loss,'Test Accuracy':test_acc},index=['model1','model2','model3'])\n",
    "df_scores"
   ]
  },
  {
   "cell_type": "code",
   "execution_count": 55,
   "metadata": {
    "id": "qfwfRcsGhes_"
   },
   "outputs": [],
   "source": [
    "# Create a list of model history\n",
    "hists = [hist_1, hist_2, hist_3]"
   ]
  },
  {
   "cell_type": "code",
   "execution_count": 56,
   "metadata": {
    "id": "R935mQs7hes_"
   },
   "outputs": [],
   "source": [
    "# Function to plot the history of all CNN models\n",
    "def plot_history(hists, attribute, axis=(-1,10,0.85,0.94), loc='lower right'):\n",
    " title={'val_loss': 'Validation loss', 'loss': 'Training loss', 'val_accuracy': 'Validation accuracy', 'accuracy': 'Training accuracy'}\n",
    " num_hists=len(hists)\n",
    " plt.figure(figsize=(12, 8)) # To modify plot size\n",
    " plt.axis(axis) # To plot on axis\n",
    "        \n",
    " for i in range(num_hists):\n",
    "  plt.plot(hists[i].history[attribute]) # Plot the history\n",
    " plt.title(title[attribute], fontsize=25) # Add the title to plot\n",
    " plt.ylabel(title[attribute])             # Add label on y-axis\n",
    " plt.xlabel('Epochs')                     # Add label on y-axis\n",
    " plt.legend(['model1','model2','model3'], loc=loc) # Show the legend\n",
    " plt.show()                              # Display the plot\n"
   ]
  },
  {
   "cell_type": "code",
   "execution_count": 57,
   "metadata": {
    "colab": {
     "base_uri": "https://localhost:8080/",
     "height": 522
    },
    "id": "WXDCyhTDhes_",
    "outputId": "db7d764f-a818-497c-bbaa-14f531b6b184"
   },
   "outputs": [
    {
     "data": {
      "image/png": "[encoded data removed]",
      "text/plain": [
       "<Figure size 864x576 with 1 Axes>"
      ]
     },
     "metadata": {
      "needs_background": "light"
     },
     "output_type": "display_data"
    }
   ],
   "source": [
    "# Plot training accuracy\n",
    "plot_history(hists, attribute='accuracy', axis=(-1,10,0.725,1), loc='lower right')"
   ]
  },
  {
   "cell_type": "code",
   "execution_count": 58,
   "metadata": {
    "colab": {
     "base_uri": "https://localhost:8080/",
     "height": 522
    },
    "id": "yNMD6GFChes_",
    "outputId": "811e200d-d76a-4c3f-e3ce-9bb37e4cc354"
   },
   "outputs": [
    {
     "data": {
      "image/png": "[encoded data removed]",
      "text/plain": [
       "<Figure size 864x576 with 1 Axes>"
      ]
     },
     "metadata": {
      "needs_background": "light"
     },
     "output_type": "display_data"
    }
   ],
   "source": [
    "# Plot validation accuracy\n",
    "plot_history(hists, attribute='val_accuracy',axis=(-1,10,0.88,0.99), loc='lower right')"
   ]
  },
  {
   "cell_type": "code",
   "execution_count": 59,
   "metadata": {
    "colab": {
     "base_uri": "https://localhost:8080/",
     "height": 522
    },
    "id": "yp4eWJ_Uhes_",
    "outputId": "ae310b63-e12c-4aee-dd80-280f190c1cd2"
   },
   "outputs": [
    {
     "data": {
      "image/png": "[encoded data removed]",
      "text/plain": [
       "<Figure size 864x576 with 1 Axes>"
      ]
     },
     "metadata": {
      "needs_background": "light"
     },
     "output_type": "display_data"
    }
   ],
   "source": [
    "# Plot training loss\n",
    "plot_history(hists, attribute='loss', axis=(-1,10,0.01,0.5), loc='upper right')"
   ]
  },
  {
   "cell_type": "code",
   "execution_count": 60,
   "metadata": {
    "colab": {
     "base_uri": "https://localhost:8080/",
     "height": 522
    },
    "id": "khQTFXU1hetA",
    "outputId": "386911c2-ce24-4108-bcb7-658f069e8fb6"
   },
   "outputs": [
    {
     "data": {
      "image/png": "[encoded data removed]",
      "text/plain": [
       "<Figure size 864x576 with 1 Axes>"
      ]
     },
     "metadata": {
      "needs_background": "light"
     },
     "output_type": "display_data"
    }
   ],
   "source": [
    "# Plot validation loss\n",
    "plot_history(hists, attribute='val_loss', axis=(-1,10,0.01,0.35), loc='upper right')"
   ]
  },
  {
   "cell_type": "markdown",
   "metadata": {},
   "source": [
    "So, we can see that as we increase the number of layers and model complexity, it is not always true that the accuracy will always increase or test loss will always decrease. From the above plots we can see that model2 and model3 perform equally well on test data and the loss for model2 is slightly less than model3.\n",
    "\n",
    "Hence, we need to keep check of our metrics and build a model in such a way so that the model is less complex and does not overfit or underfit the data.\n",
    "\n",
    "At last, there is still a room for improvement, we can tune our hyperparameters and our model may perform better than the above models."
   ]
  },
  {
   "cell_type": "markdown",
   "metadata": {
    "id": "3LalrbtehetA"
   },
   "source": [
    "**THANK YOU :)**"
   ]
  }
 ],
 "metadata": {
  "colab": {
   "collapsed_sections": [],
   "name": "CNN_Model_using_MNIST_dataset.ipynb",
   "provenance": []
  },
  "kernelspec": {
   "display_name": "Python 3",
   "language": "python",
   "name": "python3"
  },
  "language_info": {
   "codemirror_mode": {
    "name": "ipython",
    "version": 3
   },
   "file_extension": ".py",
   "mimetype": "text/x-python",
   "name": "python",
   "nbconvert_exporter": "python",
   "pygments_lexer": "ipython3",
   "version": "3.6.13"
  }
 },
 "nbformat": 4,
 "nbformat_minor": 1
}
